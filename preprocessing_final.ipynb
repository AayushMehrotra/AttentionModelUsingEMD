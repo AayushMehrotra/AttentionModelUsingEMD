{
 "cells": [
  {
   "cell_type": "code",
   "execution_count": 1,
   "metadata": {},
   "outputs": [
    {
     "name": "stderr",
     "output_type": "stream",
     "text": [
      "IOPub data rate exceeded.\n",
      "The notebook server will temporarily stop sending output\n",
      "to the client in order to avoid crashing it.\n",
      "To change this limit, set the config variable\n",
      "`--NotebookApp.iopub_data_rate_limit`.\n"
     ]
    }
   ],
   "source": [
    "import json\n",
    "import pandas as pd\n",
    "import spacy\n",
    "import numpy as np\n",
    "from collections import Counter\n",
    "from nltk import sent_tokenize, word_tokenize\n",
    "import sklearn\n",
    "from sklearn.metrics import pairwise_distances \n",
    "import plotly.plotly as py\n",
    "import plotly.graph_objs as go\n",
    "from plotly.offline import download_plotlyjs, init_notebook_mode, plot, iplot\n",
    "from pyemd import emd\n",
    "from sklearn.preprocessing import normalize\n",
    "from surprise import accuracy, SVD\n",
    "import matplotlib.pyplot as plt\n",
    "import os\n",
    "from surprise import Reader\n",
    "from surprise import Dataset\n",
    "import plotly\n",
    "plotly.offline.init_notebook_mode(connected=False)"
   ]
  },
  {
   "cell_type": "code",
   "execution_count": 2,
   "metadata": {
    "collapsed": true
   },
   "outputs": [],
   "source": [
    "with open('data/squad/train-v1.1.json') as json_data:\n",
    "    train_data = json.load(json_data)\n",
    "with open('data/squad/dev-v1.1.json') as json_data:\n",
    "    dev_data = json.load(json_data)"
   ]
  },
  {
   "cell_type": "code",
   "execution_count": 3,
   "metadata": {
    "collapsed": true
   },
   "outputs": [],
   "source": [
    "train_data['data'].extend(dev_data['data'])"
   ]
  },
  {
   "cell_type": "code",
   "execution_count": 4,
   "metadata": {
    "collapsed": true
   },
   "outputs": [],
   "source": [
    "def preprocessing(train_data):\n",
    "    ques = []\n",
    "    ans = []\n",
    "    context = []\n",
    "    for data_index, data_paragraph in enumerate(train_data['data']):\n",
    "            for each_paragraph in data_paragraph['paragraphs']:\n",
    "                question_data = each_paragraph['qas']\n",
    "                context_data = each_paragraph['context']\n",
    "                for number_of_question in range(len(question_data)):\n",
    "                        question = question_data[number_of_question]['question']\n",
    "                        start_index = question_data[number_of_question]['answers'][0]['answer_start']\n",
    "                        answer = question_data[number_of_question]['answers'][0]['text']\n",
    "                        end_index = start_index + len(answer)\n",
    "                        full_stop = []\n",
    "                        for pos,char in zip(range(len(context_data)),context_data):\n",
    "                            if char == '.':\n",
    "                                full_stop.append(pos)\n",
    "                        full_stop.append(start_index)\n",
    "                        full_stop = sorted(full_stop)\n",
    "                        for pos,value in enumerate(full_stop):\n",
    "                            if value == start_index:\n",
    "                                if pos == 0:\n",
    "                                    answer_start = pos\n",
    "                                else:\n",
    "                                    answer_start = full_stop[pos - 1] + 2\n",
    "                                if pos == len(full_stop) - 1:\n",
    "                                    answer_stop = pos\n",
    "                                else:\n",
    "                                    answer_stop = full_stop[pos + 1] \n",
    "                        ques.append(question)\n",
    "                        ans.append(context_data[answer_start:answer_stop])\n",
    "                        context.append(context_data)\n",
    "    ques_ans_data = pd.DataFrame({'context':context,'question':ques,'answer':ans})\n",
    "    return ques_ans_data"
   ]
  },
  {
   "cell_type": "code",
   "execution_count": 5,
   "metadata": {
    "collapsed": true
   },
   "outputs": [],
   "source": [
    "ques_ans_data_start = preprocessing(train_data)"
   ]
  },
  {
   "cell_type": "code",
   "execution_count": 6,
   "metadata": {
    "collapsed": true
   },
   "outputs": [],
   "source": [
    "def get_word_counter():\n",
    "    word_counter = {}\n",
    "    for answer, question in zip(ques_ans_data_start['answer'], ques_ans_data_start['question']):\n",
    "        ans_list, ques_list = word_tokenize(answer), word_tokenize(question)\n",
    "        for a in ans_list:\n",
    "            word_counter[a.lower()] = word_counter.get(a.lower(), 0) + 1\n",
    "        for q in ques_list:\n",
    "            word_counter[q.lower()] = word_counter.get(q.lower(), 0) + 1\n",
    "            \n",
    "    return word_counter        "
   ]
  },
  {
   "cell_type": "code",
   "execution_count": 7,
   "metadata": {
    "collapsed": true
   },
   "outputs": [],
   "source": [
    "word_counter = get_word_counter()"
   ]
  },
  {
   "cell_type": "code",
   "execution_count": 8,
   "metadata": {
    "collapsed": true
   },
   "outputs": [],
   "source": [
    "def get_word2vec():\n",
    "    word2vec_dict = {}\n",
    "    word_counter = get_word_counter()\n",
    "    with open('data/glove/glove.6B.100d.txt','r',encoding = 'utf-8') as glove_data:\n",
    "        for line in glove_data:\n",
    "            array = line.lstrip().rstrip().split(\" \")\n",
    "            word = array[0]\n",
    "            vector = list(map(float, array[1:]))\n",
    "            if word in word_counter.keys():\n",
    "                word2vec_dict[word] = vector\n",
    "            elif word.capitalize() in word_counter.keys():\n",
    "                word2vec_dict[word.capitalize()] = vector\n",
    "            elif word.lower() in word_counter.keys():\n",
    "                word2vec_dict[word.lower()] = vector\n",
    "            elif word.upper() in word_counter.keys():\n",
    "                word2vec_dict[word.upper()] = vector\n",
    "    return word2vec_dict"
   ]
  },
  {
   "cell_type": "code",
   "execution_count": 9,
   "metadata": {
    "collapsed": true
   },
   "outputs": [],
   "source": [
    "word2vec_dict = get_word2vec()"
   ]
  },
  {
   "cell_type": "code",
   "execution_count": 10,
   "metadata": {
    "collapsed": true
   },
   "outputs": [],
   "source": [
    "#function which calculates euclidean distance between each word of ques and answer\n",
    "def get_similarity(question, answer):\n",
    "    distance_list = []\n",
    "    for each_answer_word in word_tokenize(answer.lower()):\n",
    "        \n",
    "        each_word_dist = []\n",
    "        for each_ques_word in word_tokenize(question.lower()):\n",
    "            if each_answer_word in word2vec_dict.keys() and each_ques_word in word2vec_dict.keys():\n",
    "                word2vec_answer = word2vec_dict[each_answer_word]\n",
    "                word2vec_question = word2vec_dict[each_ques_word]\n",
    "                word2vec_answer = np.array(word2vec_answer).reshape((1,100))\n",
    "                word2vec_question = np.array(word2vec_question).reshape((1,100))\n",
    "            else:\n",
    "                word2vec_answer = np.random.random((1,100))\n",
    "                word2vec_question = np.random.random((1,100))\n",
    "            dist = pairwise_distances(word2vec_answer, word2vec_question)\n",
    "            each_word_dist.append(dist[0][0])\n",
    "        distance_list.append(each_word_dist)    \n",
    "#     trace = go.Heatmap(z=distance_list,\n",
    "#                    x=word_tokenize(question),\n",
    "#                    y=word_tokenize(answer))\n",
    "#     data=[trace]\n",
    "#     plot(data, filename='labelled-heatmap')\n",
    "    return distance_list"
   ]
  },
  {
   "cell_type": "code",
   "execution_count": 11,
   "metadata": {
    "collapsed": true
   },
   "outputs": [],
   "source": [
    "#function to calculate emd based on glove vectors\n",
    "def get_emd(user_question, sent1):\n",
    "    unique_words_in_ques_sent = list(set(word_tokenize(user_question) + word_tokenize(sent1)))\n",
    "    left_vector_dict = {}\n",
    "    right_vector_dict = {}\n",
    "    \n",
    "    for w in unique_words_in_ques_sent:\n",
    "        \n",
    "        if w in word_tokenize(user_question):\n",
    "            left_vector_dict[w] = left_vector_dict.get(w, 0) + 1\n",
    "            \n",
    "        else:\n",
    "            left_vector_dict[w] = 0\n",
    "            \n",
    "    for w in unique_words_in_ques_sent:\n",
    "        \n",
    "        if w in word_tokenize(sent1):\n",
    "            right_vector_dict[w] = right_vector_dict.get(w, 0) + 1\n",
    "        else:\n",
    "            right_vector_dict[w] = 0\n",
    "            \n",
    "    left_vector = [left_vector_dict[key] for key in sorted(left_vector_dict)]\n",
    "    right_vector = [right_vector_dict[key] for key in sorted(right_vector_dict)]  \n",
    "    sent_words_in_qa = ' '.join([word for word in unique_words_in_ques_sent])\n",
    "    qa_distance = np.array(get_similarity(sent_words_in_qa, sent_words_in_qa))\n",
    "    emd_dist = emd(np.array(left_vector, dtype=np.float)/sum(np.array(left_vector, dtype=np.float)),\n",
    "    np.array(right_vector, dtype=np.float)/sum(np.array(right_vector, dtype=np.float)), qa_distance)\n",
    "    return emd_dist\n"
   ]
  },
  {
   "cell_type": "code",
   "execution_count": 12,
   "metadata": {
    "collapsed": true
   },
   "outputs": [],
   "source": [
    "def get_answer_ner_tags():\n",
    "    nlp = spacy.load('en')\n",
    "    all_answer_ner = []\n",
    "    all_ner_list = []\n",
    "    unique_ner_list = []\n",
    "    unique_ner = set()\n",
    "\n",
    "    for each_answer in ques_ans_data_start['answer']:\n",
    "        nlp_answer = nlp(each_answer)\n",
    "        ner = {}\n",
    "        for each_word in nlp_answer.ents:\n",
    "            if each_word.label_ == 'GPE' or each_word.label_ == 'FAC':\n",
    "                ner['PLACE'] = ner.get('PLACE', 0) + 1\n",
    "                unique_ner_list.append('PLACE')\n",
    "            elif each_word.label_ == 'CARDINAL' or each_word.label_ == 'ORDINAL':\n",
    "                ner['NUMBER'] = ner.get('NUMBER', 0) + 1\n",
    "                unique_ner_list.append('NUMBER')\n",
    "\n",
    "            else:   \n",
    "                ner[each_word.label_] = ner.get(each_word.label_, 0) + 1\n",
    "                unique_ner_list.append(each_word.label_)\n",
    "\n",
    "        all_answer_ner.append(ner) \n",
    "        all_ner_list.append(ner.keys())\n",
    "        unique_ner = set(unique_ner_list)  \n",
    "    return all_ner_list, unique_ner, all_answer_ner"
   ]
  },
  {
   "cell_type": "code",
   "execution_count": 13,
   "metadata": {
    "collapsed": true
   },
   "outputs": [],
   "source": [
    "all_ner_list, unique_ner, all_answer_ner = get_answer_ner_tags()"
   ]
  },
  {
   "cell_type": "code",
   "execution_count": 14,
   "metadata": {
    "collapsed": true
   },
   "outputs": [],
   "source": [
    "def getting_question_type():\n",
    "    question_type = []\n",
    "    ques_ans_token = []\n",
    "    ques_types = [\"how\", \"which\", \"where\", \"what\", \"when\", \"who\", \"how long\", \"how big\", \"how heavy\", \"how much\", \\\n",
    "         \"how many\", \"how high\", \"what date\", \"what year\", \"what state\", \"what country\", \"how old\"]\n",
    "    for ques in ques_ans_data_start['question']:\n",
    "        quest_type = \"others\"\n",
    "        for q_type in ques_types:\n",
    "            if q_type in ques.lower():\n",
    "                quest_type = q_type\n",
    "        question_type.append(quest_type)\n",
    "    tokens = pd.DataFrame({'ques_type': question_type}) \n",
    "    return tokens"
   ]
  },
  {
   "cell_type": "code",
   "execution_count": 15,
   "metadata": {
    "collapsed": true
   },
   "outputs": [],
   "source": [
    "tokens = getting_question_type()"
   ]
  },
  {
   "cell_type": "code",
   "execution_count": 16,
   "metadata": {
    "collapsed": true
   },
   "outputs": [],
   "source": [
    "answer_tag = pd.DataFrame({'answer_tags': all_ner_list})\n",
    "answer_tag_freq = pd.DataFrame({'answer_tags_freq': all_answer_ner})\n",
    "ques_ans_data = pd.concat([ques_ans_data_start, tokens, answer_tag, answer_tag_freq], axis=1)"
   ]
  },
  {
   "cell_type": "code",
   "execution_count": 17,
   "metadata": {
    "collapsed": true
   },
   "outputs": [],
   "source": [
    "unique_questions = pd.unique(ques_ans_data['ques_type'])"
   ]
  },
  {
   "cell_type": "code",
   "execution_count": 18,
   "metadata": {
    "collapsed": true
   },
   "outputs": [],
   "source": [
    "def get_question_ner_tags():\n",
    "    ques_ner_dict = {}\n",
    "    ques_ner_freq_dict = {}\n",
    "    for ques_type in unique_questions:\n",
    "\n",
    "        ques_df = ques_ans_data[ques_ans_data.ques_type == ques_type]\n",
    "        ques_tag_dict = {}\n",
    "        ques_tag_dict_freq = {}\n",
    "        ques_tag_dict_freq_counter = Counter()\n",
    "        for atag_list in ques_df['answer_tags']:\n",
    "            for tag in atag_list:\n",
    "                ques_tag_dict[tag] = ques_tag_dict.get(tag, 0) + 1\n",
    "\n",
    "        for dict in list(ques_df['answer_tags_freq']):\n",
    "            ques_tag_dict_freq_counter += Counter(dict)\n",
    "                \n",
    "        ques_ner_dict[ques_type] = ques_tag_dict\n",
    "        ques_ner_freq_dict[ques_type] = ques_tag_dict_freq_counter\n",
    "        \n",
    "    return ques_ner_dict, ques_ner_freq_dict      "
   ]
  },
  {
   "cell_type": "code",
   "execution_count": 19,
   "metadata": {
    "collapsed": true
   },
   "outputs": [],
   "source": [
    "ques_ner_dict, ques_ner_freq_dict = get_question_ner_tags()"
   ]
  },
  {
   "cell_type": "code",
   "execution_count": 20,
   "metadata": {
    "collapsed": true
   },
   "outputs": [],
   "source": [
    "unique_ner = list(unique_ner)"
   ]
  },
  {
   "cell_type": "code",
   "execution_count": 22,
   "metadata": {
    "collapsed": true
   },
   "outputs": [],
   "source": [
    "def plot_ques_ner(ques_ner_freq_dict):\n",
    "    plot_list = []\n",
    "    \n",
    "    for uq in unique_questions:\n",
    "        sub_list = []\n",
    "        for utag in unique_ner:\n",
    "            sub_list.append(ques_ner_dict[uq].get(utag, 0))\n",
    "        plot_list.append(np.array(sub_list)/np.sum(np.array(sub_list)))  \n",
    "#     trace = go.Heatmap(z=plot_list,\n",
    "#                x=unique_ner,\n",
    "#                y=unique_questions)\n",
    "#     data=[trace]\n",
    "#     plot(data, filename='labelled-heatmap.html')\n",
    "    return plot_list\n",
    "\n",
    "        "
   ]
  },
  {
   "cell_type": "code",
   "execution_count": 23,
   "metadata": {
    "collapsed": true
   },
   "outputs": [],
   "source": [
    "def plot_ques_ner_without_normalization(ques_ner_freq_dict):\n",
    "    plot_list = []\n",
    "    \n",
    "    for uq in unique_questions:\n",
    "        sub_list = []\n",
    "        for utag in unique_ner:\n",
    "            sub_list.append(ques_ner_freq_dict[uq].get(utag, 0))\n",
    "        plot_list.append(sub_list)  \n",
    "#     trace = go.Heatmap(z=plot_list,\n",
    "#                x=unique_ner,\n",
    "#                y=unique_questions)\n",
    "#     data=[trace]\n",
    "#     plot(data, filename='labelled-heatmap.html')\n",
    "    return plot_list\n",
    "\n",
    "        "
   ]
  },
  {
   "cell_type": "code",
   "execution_count": 24,
   "metadata": {},
   "outputs": [],
   "source": [
    "ques_ner_similarity_mat = plot_ques_ner_without_normalization(ques_ner_freq_dict)"
   ]
  },
  {
   "cell_type": "code",
   "execution_count": 25,
   "metadata": {
    "collapsed": true
   },
   "outputs": [],
   "source": [
    "unique_ques_sent_tags = list(unique_questions) + unique_ner"
   ]
  },
  {
   "cell_type": "code",
   "execution_count": 26,
   "metadata": {
    "collapsed": true
   },
   "outputs": [],
   "source": [
    "ques_ner_sim_log_mat = pd.DataFrame(np.log(np.array(ques_ner_similarity_mat) + 1))"
   ]
  },
  {
   "cell_type": "code",
   "execution_count": 27,
   "metadata": {
    "collapsed": true
   },
   "outputs": [],
   "source": [
    "x1 = []\n",
    "x2 = []\n",
    "o = []\n",
    "for index in ques_ner_sim_log_mat.index:\n",
    "    for value,ner in zip(ques_ner_sim_log_mat.iloc[index],ques_ner_sim_log_mat.columns):\n",
    "        o.append(value)\n",
    "        x1.append(index)\n",
    "        x2.append(ner)"
   ]
  },
  {
   "cell_type": "code",
   "execution_count": 28,
   "metadata": {
    "collapsed": true
   },
   "outputs": [],
   "source": [
    "dataframe_to_svd = pd.DataFrame({'x1': x1, 'x2': x2, 'y': o})"
   ]
  },
  {
   "cell_type": "code",
   "execution_count": 29,
   "metadata": {
    "collapsed": true
   },
   "outputs": [],
   "source": [
    "dataframe_to_svd.to_csv(path_or_buf='que_ne_occ.csv', sep=',', index=False, header=False)"
   ]
  },
  {
   "cell_type": "code",
   "execution_count": 30,
   "metadata": {
    "collapsed": true
   },
   "outputs": [],
   "source": [
    "file_path = os.path.expanduser('./que_ne_occ.csv')"
   ]
  },
  {
   "cell_type": "code",
   "execution_count": 31,
   "metadata": {
    "collapsed": true
   },
   "outputs": [],
   "source": [
    "reader = Reader(line_format='user item rating', sep=',', rating_scale=(0, 25))\n",
    "data = Dataset.load_from_file('que_ne_occ.csv', reader=reader)"
   ]
  },
  {
   "cell_type": "code",
   "execution_count": 32,
   "metadata": {},
   "outputs": [
    {
     "name": "stdout",
     "output_type": "stream",
     "text": [
      "RMSE: 0.8914\n",
      "RMSE: 0.9246\n",
      "RMSE: 0.6399\n",
      "RMSE: 0.8260\n",
      "RMSE: 0.8258\n"
     ]
    },
    {
     "data": {
      "image/png": "[encoded data removed]",
      "text/plain": [
       "<matplotlib.figure.Figure at 0x7f6f0b9f2cc0>"
      ]
     },
     "metadata": {},
     "output_type": "display_data"
    }
   ],
   "source": [
    "algo = SVD(n_factors=5,n_epochs=1000,init_mean=5)\n",
    "\n",
    "for trainset, testset in data.folds():\n",
    "    algo.train(trainset)\n",
    "    predictions_svd = algo.test(testset)\n",
    "    rmse = accuracy.rmse(predictions_svd, verbose=True)\n",
    "svd_df = pd.DataFrame(predictions_svd)\n",
    "svd_df['error'] = svd_df.est - svd_df.r_ui    \n",
    "plt.plot(svd_df['r_ui'])\n",
    "plt.plot(svd_df['est'])\n",
    "plt.show()"
   ]
  },
  {
   "cell_type": "code",
   "execution_count": 33,
   "metadata": {
    "collapsed": true
   },
   "outputs": [],
   "source": [
    "algo_pq = np.append(algo.qi, algo.pu)"
   ]
  },
  {
   "cell_type": "code",
   "execution_count": 34,
   "metadata": {
    "collapsed": true
   },
   "outputs": [],
   "source": [
    "algo_pq_distance = algo_pq.reshape(len(unique_ques_sent_tags), 5)"
   ]
  },
  {
   "cell_type": "markdown",
   "metadata": {},
   "source": [
    "# Weight matrix"
   ]
  },
  {
   "cell_type": "code",
   "execution_count": 35,
   "metadata": {
    "collapsed": true
   },
   "outputs": [],
   "source": [
    "tags_weight_matrix = []\n",
    "for i in algo_pq_distance:\n",
    "    each_tag_weights = []\n",
    "    for j in algo_pq_distance:\n",
    "        dist = pairwise_distances(i.reshape((1,5)), j.reshape((1,5)))\n",
    "        each_tag_weights.append(dist[0][0])\n",
    "    tags_weight_matrix.append(each_tag_weights)"
   ]
  },
  {
   "cell_type": "code",
   "execution_count": 36,
   "metadata": {
    "collapsed": true
   },
   "outputs": [],
   "source": [
    "np.save('wmd_weight_matrix', np.array(tags_weight_matrix))"
   ]
  },
  {
   "cell_type": "markdown",
   "metadata": {},
   "source": [
    "# EMD METHOD"
   ]
  },
  {
   "cell_type": "code",
   "execution_count": 37,
   "metadata": {
    "collapsed": true
   },
   "outputs": [],
   "source": [
    "def get_emd_with_tags(qtag, atag):\n",
    "    ques_tagged = {}\n",
    "    sent_tagged = {}\n",
    "    for word in unique_ques_sent_tags:\n",
    "        if word in qtag.keys():\n",
    "            ques_tagged[word] = 1\n",
    "        else:\n",
    "            ques_tagged[word] = 0\n",
    "\n",
    "        if word in atag.keys():\n",
    "            sent_tagged[word] = atag[word]\n",
    "        else:\n",
    "            sent_tagged[word] = 0\n",
    "    tag_left_vector = [ques_tagged[key] for key in sorted(ques_tagged)]\n",
    "    tag_right_vector = [sent_tagged[key] for key in sorted(sent_tagged)]\n",
    "    tag_right_vector = tag_right_vector/np.sum(tag_right_vector)\n",
    "    tag_left_vector = np.array(tag_left_vector, dtype=float)\n",
    "    tag_right_vector = np.array(tag_right_vector, dtype=float)\n",
    "    emd_score = emd(tag_left_vector,tag_right_vector,np.array(tags_weight_matrix))\n",
    "    return emd_score"
   ]
  },
  {
   "cell_type": "code",
   "execution_count": 38,
   "metadata": {
    "collapsed": true
   },
   "outputs": [],
   "source": [
    "def getting_question_type_user_question(ques):\n",
    "    question_type = []\n",
    "    ques_ans_token = []\n",
    "    ques_types = [\"how\", \"which\", \"where\", \"what\", \"when\", \"who\", \"how long\", \"how big\", \"how heavy\", \"how much\", \\\n",
    "         \"how many\", \"how high\", \"what date\", \"what year\", \"what state\", \"what country\", \"how old\"]\n",
    "    quest_type = \"others\"\n",
    "    for q_type in ques_types:\n",
    "        if q_type in ques.lower():\n",
    "            quest_type = q_type\n",
    "    return {quest_type : 1}\n"
   ]
  },
  {
   "cell_type": "code",
   "execution_count": 39,
   "metadata": {
    "collapsed": true
   },
   "outputs": [],
   "source": [
    "def getting_ner_tags_answer(answer):\n",
    "    ner = {}\n",
    "    nlp = spacy.load('en')\n",
    "    doc = nlp(answer)\n",
    "    for each_word in doc.ents:\n",
    "        if each_word.label_ == 'GPE' or each_word.label_ == 'FAC':\n",
    "                ner['PLACE'] = ner.get('PLACE', 0) + 1\n",
    "        elif each_word.label_ == 'CARDINAL' or each_word.label_ == 'ORDINAL':\n",
    "            ner['NUMBER'] = ner.get('NUMBER', 0) + 1\n",
    "\n",
    "        else:   \n",
    "            ner[each_word.label_] = ner.get(each_word.label_, 0) + 1\n",
    "    return ner            \n"
   ]
  },
  {
   "cell_type": "code",
   "execution_count": 43,
   "metadata": {
    "collapsed": true
   },
   "outputs": [],
   "source": [
    "def get_wmd_for_tags_test(question, answer):\n",
    "    qtag = getting_question_type_user_question(question)\n",
    "    atag = getting_ner_tags_answer(answer)\n",
    "#     print(atag)\n",
    "#     trace = go.Heatmap(z=tags_weight_matrix,\n",
    "#                    x=word_tokenize(answer),\n",
    "#                    y=unique_questions)\n",
    "#     data=[trace]\n",
    "#     plot(data, filename='labelled-heatmap.html')\n",
    "    emd_val = get_emd_with_tags(qtag, atag)\n",
    "    return emd_val"
   ]
  },
  {
   "cell_type": "code",
   "execution_count": 44,
   "metadata": {},
   "outputs": [
    {
     "name": "stdout",
     "output_type": "stream",
     "text": [
      "tags: 3.0496985990766046\n",
      "glove: 3.2942095330439436\n",
      "tags: 3.2648794805408436\n",
      "glove: 4.474643080499728\n"
     ]
    }
   ],
   "source": [
    "question = \"Who is the president of U.S.A.?\"\n",
    "answer = \"Trump, the president of U.S.A is an 70 years old man\"\n",
    "answer1 = \"India is a developing country\"\n",
    "wmd_tags = get_wmd_for_tags_test(question, answer)\n",
    "wmd_glove = get_emd(question, answer)\n",
    "print('tags:', wmd_tags)\n",
    "print('glove:', wmd_glove)\n",
    "wmd_tags = get_wmd_for_tags_test(question, answer1)\n",
    "wmd_glove = get_emd(question, answer1)\n",
    "print('tags:', wmd_tags)\n",
    "print('glove:', wmd_glove)"
   ]
  }
 ],
 "metadata": {
  "kernelspec": {
   "display_name": "Python 3",
   "language": "python",
   "name": "python3"
  },
  "language_info": {
   "codemirror_mode": {
    "name": "ipython",
    "version": 3
   },
   "file_extension": ".py",
   "mimetype": "text/x-python",
   "name": "python",
   "nbconvert_exporter": "python",
   "pygments_lexer": "ipython3",
   "version": "3.5.2"
  }
 },
 "nbformat": 4,
 "nbformat_minor": 2
}
