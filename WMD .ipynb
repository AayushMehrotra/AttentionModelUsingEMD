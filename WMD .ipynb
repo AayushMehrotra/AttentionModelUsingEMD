{
 "cells": [
  {
   "cell_type": "code",
   "execution_count": 16,
   "metadata": {
    "collapsed": true
   },
   "outputs": [],
   "source": [
    "import spacy\n",
    "import pickle\n",
    "import json\n",
    "import numpy as np\n",
    "from pyemd import emd \n",
    "from nltk.tokenize import word_tokenize,sent_tokenize\n",
    "from sklearn.metrics import pairwise_distances "
   ]
  },
  {
   "cell_type": "code",
   "execution_count": 17,
   "metadata": {
    "collapsed": true
   },
   "outputs": [],
   "source": [
    "tags_weight_matrix = np.load(\"wmd_weight_matrix.npy\")\n",
    "with open(\"unique_list.txt\", \"rb\") as fp:\n",
    "    unique_ques_sent_tags = pickle.load(fp)\n",
    "with open('word2vec.json') as json_data:\n",
    "    word2vec_dict = json.load(json_data)"
   ]
  },
  {
   "cell_type": "code",
   "execution_count": 18,
   "metadata": {
    "collapsed": true
   },
   "outputs": [],
   "source": [
    "def get_emd_with_tags(qtag, atag):\n",
    "    ques_tagged = {}\n",
    "    sent_tagged = {}\n",
    "    for word in unique_ques_sent_tags:\n",
    "        if word in qtag.keys():\n",
    "            ques_tagged[word] = 1\n",
    "        else:\n",
    "            ques_tagged[word] = 0\n",
    "\n",
    "        if word in atag.keys():\n",
    "            sent_tagged[word] = atag[word]\n",
    "        else:\n",
    "            sent_tagged[word] = 0\n",
    "    tag_left_vector = [ques_tagged[key] for key in sorted(ques_tagged)]\n",
    "    tag_right_vector = [sent_tagged[key] for key in sorted(sent_tagged)]\n",
    "    tag_right_vector = tag_right_vector/np.sum(tag_right_vector)\n",
    "    tag_left_vector = np.array(tag_left_vector, dtype=float)\n",
    "    tag_right_vector = np.array(tag_right_vector, dtype=float)\n",
    "    emd_score = emd(tag_left_vector,tag_right_vector,np.array(tags_weight_matrix))\n",
    "    return emd_score"
   ]
  },
  {
   "cell_type": "code",
   "execution_count": 19,
   "metadata": {
    "collapsed": true
   },
   "outputs": [],
   "source": [
    "def getting_question_type_user_question(ques):\n",
    "    question_type = []\n",
    "    ques_ans_token = []\n",
    "    ques_types = [\"how\", \"which\", \"where\", \"what\", \"when\", \"who\", \"how long\", \"how big\", \"how heavy\", \"how much\", \\\n",
    "         \"how many\", \"how high\", \"what date\", \"what year\", \"what state\", \"what country\", \"how old\"]\n",
    "    quest_type = \"others\"\n",
    "    for q_type in ques_types:\n",
    "        if q_type in ques.lower():\n",
    "            quest_type = q_type\n",
    "    return {quest_type : 1}"
   ]
  },
  {
   "cell_type": "code",
   "execution_count": 20,
   "metadata": {
    "collapsed": true
   },
   "outputs": [],
   "source": [
    "def getting_ner_tags_answer(answer):\n",
    "    ner = {}\n",
    "    nlp = spacy.load('en')\n",
    "    doc = nlp(answer)\n",
    "    for each_word in doc.ents:\n",
    "        if each_word.label_ == 'GPE' or each_word.label_ == 'FAC':\n",
    "                ner['PLACE'] = ner.get('PLACE', 0) + 1\n",
    "        elif each_word.label_ == 'CARDINAL' or each_word.label_ == 'ORDINAL':\n",
    "            ner['NUMBER'] = ner.get('NUMBER', 0) + 1\n",
    "\n",
    "        else:\n",
    "            if each_word.label_ in unique_ques_sent_tags:\n",
    "                ner[each_word.label_] = ner.get(each_word.label_, 0) + 1\n",
    "    return ner            \n"
   ]
  },
  {
   "cell_type": "code",
   "execution_count": 21,
   "metadata": {
    "collapsed": true
   },
   "outputs": [],
   "source": [
    "def get_similarity(question, answer):\n",
    "    distance_list = []\n",
    "    for each_answer_word in word_tokenize(answer.lower()): \n",
    "        each_word_dist = []\n",
    "        for each_ques_word in word_tokenize(question.lower()):\n",
    "            if each_answer_word in word2vec_dict.keys() and each_ques_word in word2vec_dict.keys():\n",
    "                word2vec_answer = word2vec_dict[each_answer_word]\n",
    "                word2vec_question = word2vec_dict[each_ques_word]\n",
    "                word2vec_answer = np.array(word2vec_answer).reshape((1,100))\n",
    "                word2vec_question = np.array(word2vec_question).reshape((1,100))\n",
    "            else:\n",
    "                word2vec_answer = np.random.random((1,100))\n",
    "                word2vec_question = np.random.random((1,100))\n",
    "            dist = pairwise_distances(word2vec_answer, word2vec_question)\n",
    "            each_word_dist.append(dist[0][0])\n",
    "        distance_list.append(each_word_dist)    \n",
    "    return distance_list"
   ]
  },
  {
   "cell_type": "code",
   "execution_count": 22,
   "metadata": {
    "collapsed": true
   },
   "outputs": [],
   "source": [
    "def get_emd(user_question, sent1):\n",
    "    unique_words_in_ques_sent = list(set(word_tokenize(user_question) + word_tokenize(sent1)))\n",
    "    left_vector_dict = {}\n",
    "    right_vector_dict = {}\n",
    "    \n",
    "    for w in unique_words_in_ques_sent:\n",
    "        \n",
    "        if w in word_tokenize(user_question):\n",
    "            left_vector_dict[w] = left_vector_dict.get(w, 0) + 1\n",
    "            \n",
    "        else:\n",
    "            left_vector_dict[w] = 0\n",
    "            \n",
    "    for w in unique_words_in_ques_sent:\n",
    "        \n",
    "        if w in word_tokenize(sent1):\n",
    "            right_vector_dict[w] = right_vector_dict.get(w, 0) + 1\n",
    "        else:\n",
    "            right_vector_dict[w] = 0\n",
    "            \n",
    "    left_vector = [left_vector_dict[key] for key in sorted(left_vector_dict)]\n",
    "    right_vector = [right_vector_dict[key] for key in sorted(right_vector_dict)]  \n",
    "    sent_words_in_qa = ' '.join([word for word in unique_words_in_ques_sent])\n",
    "    qa_distance = np.array(get_similarity(sent_words_in_qa, sent_words_in_qa))\n",
    "    emd_dist = emd(np.array(left_vector, dtype=np.float)/sum(np.array(left_vector, dtype=np.float)),\n",
    "    np.array(right_vector, dtype=np.float)/sum(np.array(right_vector, dtype=np.float)), qa_distance)\n",
    "    return emd_dist\n"
   ]
  },
  {
   "cell_type": "code",
   "execution_count": 34,
   "metadata": {
    "collapsed": true
   },
   "outputs": [],
   "source": [
    "def get_wmd_for_tags_test(question, answer): # MAIN METHOD THAT TAKES QUESTION AND ANSWER SENTENCE\n",
    "    qtag = getting_question_type_user_question(question)\n",
    "    atag = getting_ner_tags_answer(answer)\n",
    "    emd_val = get_emd_with_tags(qtag, atag)\n",
    "    return emd_val * 2.5"
   ]
  },
  {
   "cell_type": "code",
   "execution_count": 24,
   "metadata": {},
   "outputs": [
    {
     "name": "stdout",
     "output_type": "stream",
     "text": [
      "tags: 3.053748080848804\n",
      "glove: 3.7172126367149225\n"
     ]
    }
   ],
   "source": [
    "question = 'Who discovered that magnetic and electric could self-generate?'\n",
    "answer = 'This led Maxwell to discover that electric and magnetic fields could be \"self-generating\" through a wave that traveled at a speed that he calculated to be the speed of light'\n",
    "wmd_tags = get_wmd_for_tags_test(question, answer)\n",
    "wmd_glove = get_emd(question, answer)\n",
    "print('tags:', wmd_tags)\n",
    "print('glove:', wmd_glove)"
   ]
  },
  {
   "cell_type": "code",
   "execution_count": 37,
   "metadata": {},
   "outputs": [],
   "source": [
    "con = \"The Panthers finished the regular season with a 15–1 record, and quarterback Cam Newton was named the NFL Most Valuable Player (MVP). They defeated the Arizona Cardinals 49–15 in the NFC Championship Game and advanced to their second Super Bowl appearance since the franchise was founded in 1995. The Broncos finished the regular season with a 12–4 record, and denied the New England Patriots a chance to defend their title from Super Bowl XLIX by defeating them 20–18 in the AFC Championship Game. They joined the Patriots, Dallas Cowboys, and Pittsburgh Steelers as one of four teams that have made eight appearances in the Super Bowl.\"\n",
    "sent = sent_tokenize(con)\n",
    "ques = \"What record did Panthers finished the regular season?\""
   ]
  },
  {
   "cell_type": "code",
   "execution_count": 38,
   "metadata": {},
   "outputs": [
    {
     "data": {
      "text/plain": [
       "['The Panthers finished the regular season with a 15–1 record, and quarterback Cam Newton was named the NFL Most Valuable Player (MVP).',\n",
       " 'They defeated the Arizona Cardinals 49–15 in the NFC Championship Game and advanced to their second Super Bowl appearance since the franchise was founded in 1995.',\n",
       " 'The Broncos finished the regular season with a 12–4 record, and denied the New England Patriots a chance to defend their title from Super Bowl XLIX by defeating them 20–18 in the AFC Championship Game.',\n",
       " 'They joined the Patriots, Dallas Cowboys, and Pittsburgh Steelers as one of four teams that have made eight appearances in the Super Bowl.']"
      ]
     },
     "execution_count": 38,
     "metadata": {},
     "output_type": "execute_result"
    }
   ],
   "source": [
    "sent"
   ]
  },
  {
   "cell_type": "code",
   "execution_count": 39,
   "metadata": {},
   "outputs": [
    {
     "name": "stdout",
     "output_type": "stream",
     "text": [
      "3.4867441507873513 2.842164403858565\n",
      "3.357828201401594\n",
      "5.128535162627934 3.57210255767044\n",
      "4.817248641636436\n",
      "3.997036878093651 3.7701861794093325\n",
      "3.9516667383567876\n",
      "4.049631195637022 4.403624415423046\n",
      "4.120429839594227\n"
     ]
    }
   ],
   "source": [
    "for each_sent in sent:\n",
    "    wmd_tags = get_wmd_for_tags_test(ques, each_sent)\n",
    "    wmd_glove = get_emd(ques, each_sent)\n",
    "    print(wmd_glove,wmd_tags)\n",
    "    score = 0.8 * wmd_glove + 0.2 * wmd_tags\n",
    "    print(score)"
   ]
  },
  {
   "cell_type": "code",
   "execution_count": null,
   "metadata": {
    "collapsed": true
   },
   "outputs": [],
   "source": []
  }
 ],
 "metadata": {
  "kernelspec": {
   "display_name": "Python 3",
   "language": "python",
   "name": "python3"
  },
  "language_info": {
   "codemirror_mode": {
    "name": "ipython",
    "version": 3
   },
   "file_extension": ".py",
   "mimetype": "text/x-python",
   "name": "python",
   "nbconvert_exporter": "python",
   "pygments_lexer": "ipython3",
   "version": "3.5.2"
  }
 },
 "nbformat": 4,
 "nbformat_minor": 2
}
